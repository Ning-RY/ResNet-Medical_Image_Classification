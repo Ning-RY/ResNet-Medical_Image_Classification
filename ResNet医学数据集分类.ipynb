{
  "cells": [
    {
      "cell_type": "code",
      "execution_count": 1,
      "metadata": {
        "id": "FO7B_ZYEebLQ"
      },
      "outputs": [],
      "source": [
        "import os\n",
        "import json\n",
        "import numpy as np\n",
        "from PIL import Image\n",
        "from torch.utils.data import Dataset"
      ]
    },
    {
      "cell_type": "markdown",
      "source": [
        "# 处理数据\n"
      ],
      "metadata": {
        "id": "GmwIxLB9Ai-5"
      }
    },
    {
      "cell_type": "markdown",
      "source": [
        "## DataSet"
      ],
      "metadata": {
        "id": "QxDNULyVAmWx"
      }
    },
    {
      "cell_type": "code",
      "execution_count": 2,
      "metadata": {
        "colab": {
          "base_uri": "https://localhost:8080/",
          "height": 0
        },
        "id": "Li_NT-Zoe2VP",
        "outputId": "6224f4d4-7b4b-489b-9224-cc9f4f79cddb"
      },
      "outputs": [
        {
          "output_type": "stream",
          "name": "stdout",
          "text": [
            "Mounted at /content/drive\n"
          ]
        }
      ],
      "source": [
        "from google.colab import drive\n",
        "drive.mount('/content/drive')"
      ]
    },
    {
      "cell_type": "code",
      "execution_count": 3,
      "metadata": {
        "id": "jDIztpjKfHD9",
        "colab": {
          "base_uri": "https://localhost:8080/",
          "height": 0
        },
        "outputId": "fbd9c7f1-35b1-4d88-c5f0-1e1c99e032d9"
      },
      "outputs": [
        {
          "output_type": "stream",
          "name": "stdout",
          "text": [
            "['train_images', 'val_images', 'test_images', 'train_labels', 'val_labels', 'test_labels']\n"
          ]
        }
      ],
      "source": [
        "dataset = np.load('/content/drive/MyDrive/咕泡/医学领域深度学习实战/基于ResNet医学数据集分类实战/medmnist/breastmnist.npz')\n",
        "print(dataset.files)"
      ]
    },
    {
      "cell_type": "code",
      "source": [
        "train_images = dataset['train_images']\n",
        "print(train_images[0].shape)"
      ],
      "metadata": {
        "colab": {
          "base_uri": "https://localhost:8080/",
          "height": 0
        },
        "id": "YRUY7Th7BiYV",
        "outputId": "24f52ad5-840e-4c3e-fa38-2409487db8fb"
      },
      "execution_count": 4,
      "outputs": [
        {
          "output_type": "stream",
          "name": "stdout",
          "text": [
            "(28, 28)\n"
          ]
        }
      ]
    },
    {
      "cell_type": "code",
      "source": [
        "train_labels = dataset['train_labels']\n",
        "print(train_labels[0])"
      ],
      "metadata": {
        "colab": {
          "base_uri": "https://localhost:8080/",
          "height": 0
        },
        "id": "-9ShvfzZBpPS",
        "outputId": "17133aac-6d0d-44a9-8bbb-13630a9e9521"
      },
      "execution_count": 5,
      "outputs": [
        {
          "output_type": "stream",
          "name": "stdout",
          "text": [
            "[1]\n"
          ]
        }
      ]
    },
    {
      "cell_type": "markdown",
      "source": [
        "## 制作DataLoader"
      ],
      "metadata": {
        "id": "7H_YX8MvCyy8"
      }
    },
    {
      "cell_type": "code",
      "source": [
        "from torch.utils.data import Dataset, DataLoader\n",
        "import torch"
      ],
      "metadata": {
        "id": "3m69JLdrB-3x"
      },
      "execution_count": 6,
      "outputs": []
    },
    {
      "cell_type": "code",
      "source": [
        "class BreastMnistDataset(Dataset):\n",
        "  def __init__(self, img, label, transform=None):\n",
        "    self.img = img\n",
        "    self.label = label\n",
        "    self.transform = transform\n",
        "  \n",
        "  def __len__(self):\n",
        "    return len(self.img)\n",
        "\n",
        "  def __getitem__(self, idx):\n",
        "    image = self.img[idx]\n",
        "    image = torch.from_numpy(image).permute(2, 0, 1).float()\n",
        "    label = self.label[idx]\n",
        "    if self.transform:\n",
        "      image = self.transform(image)\n",
        "    label = torch.from_numpy(np.array(label)).long().squeeze()\n",
        "    return image, label\n"
      ],
      "metadata": {
        "id": "ymAeabUVC5-7"
      },
      "execution_count": 7,
      "outputs": []
    },
    {
      "cell_type": "code",
      "source": [
        "root = np.load('/content/drive/MyDrive/咕泡/医学领域深度学习实战/基于ResNet医学数据集分类实战/medmnist/retinamnist.npz')\n",
        "train_dataset = BreastMnistDataset(root['train_images'], root['train_labels'])"
      ],
      "metadata": {
        "id": "eKqdF25GHI6b"
      },
      "execution_count": 8,
      "outputs": []
    },
    {
      "cell_type": "code",
      "source": [
        "root = np.load('/content/drive/MyDrive/咕泡/医学领域深度学习实战/基于ResNet医学数据集分类实战/medmnist/retinamnist.npz')\n",
        "val_dataset = BreastMnistDataset(root['val_images'], root['val_labels'])"
      ],
      "metadata": {
        "id": "Jdn8LY2bIhiL"
      },
      "execution_count": 9,
      "outputs": []
    },
    {
      "cell_type": "code",
      "source": [
        "train_loader = DataLoader(train_dataset, batch_size=64, shuffle=True)\n",
        "val_loader = DataLoader(val_dataset, batch_size=64, shuffle=True)"
      ],
      "metadata": {
        "id": "3SZ85RF2JdFx"
      },
      "execution_count": 10,
      "outputs": []
    },
    {
      "cell_type": "code",
      "source": [
        "len(train_dataset)"
      ],
      "metadata": {
        "colab": {
          "base_uri": "https://localhost:8080/",
          "height": 0
        },
        "id": "olpJTuHzJpYZ",
        "outputId": "7ee1a75e-0b9f-4bf4-8acc-210b44bc97d0"
      },
      "execution_count": 11,
      "outputs": [
        {
          "output_type": "execute_result",
          "data": {
            "text/plain": [
              "1080"
            ]
          },
          "metadata": {},
          "execution_count": 11
        }
      ]
    },
    {
      "cell_type": "code",
      "source": [
        "len(val_dataset)"
      ],
      "metadata": {
        "colab": {
          "base_uri": "https://localhost:8080/",
          "height": 0
        },
        "id": "p8QxrhYNJr0i",
        "outputId": "62f2762b-bf68-45aa-f230-86c8ad0ce3a0"
      },
      "execution_count": 12,
      "outputs": [
        {
          "output_type": "execute_result",
          "data": {
            "text/plain": [
              "120"
            ]
          },
          "metadata": {},
          "execution_count": 12
        }
      ]
    },
    {
      "cell_type": "markdown",
      "source": [
        "### 用之前试试，整个数据和标签是否对应"
      ],
      "metadata": {
        "id": "z_yOtUSvJu4D"
      }
    },
    {
      "cell_type": "code",
      "source": [
        "!pip install --upgrade matplotlib\n",
        "!pip install matplotlib-inline"
      ],
      "metadata": {
        "colab": {
          "base_uri": "https://localhost:8080/",
          "height": 0
        },
        "id": "eczK5XczJuMx",
        "outputId": "cb9f1340-7fd2-4c0c-e083-4142f87bf300"
      },
      "execution_count": 13,
      "outputs": [
        {
          "output_type": "stream",
          "name": "stdout",
          "text": [
            "Looking in indexes: https://pypi.org/simple, https://us-python.pkg.dev/colab-wheels/public/simple/\n",
            "Requirement already satisfied: matplotlib in /usr/local/lib/python3.10/dist-packages (3.7.1)\n",
            "Requirement already satisfied: contourpy>=1.0.1 in /usr/local/lib/python3.10/dist-packages (from matplotlib) (1.0.7)\n",
            "Requirement already satisfied: cycler>=0.10 in /usr/local/lib/python3.10/dist-packages (from matplotlib) (0.11.0)\n",
            "Requirement already satisfied: fonttools>=4.22.0 in /usr/local/lib/python3.10/dist-packages (from matplotlib) (4.39.3)\n",
            "Requirement already satisfied: kiwisolver>=1.0.1 in /usr/local/lib/python3.10/dist-packages (from matplotlib) (1.4.4)\n",
            "Requirement already satisfied: numpy>=1.20 in /usr/local/lib/python3.10/dist-packages (from matplotlib) (1.22.4)\n",
            "Requirement already satisfied: packaging>=20.0 in /usr/local/lib/python3.10/dist-packages (from matplotlib) (23.1)\n",
            "Requirement already satisfied: pillow>=6.2.0 in /usr/local/lib/python3.10/dist-packages (from matplotlib) (8.4.0)\n",
            "Requirement already satisfied: pyparsing>=2.3.1 in /usr/local/lib/python3.10/dist-packages (from matplotlib) (3.0.9)\n",
            "Requirement already satisfied: python-dateutil>=2.7 in /usr/local/lib/python3.10/dist-packages (from matplotlib) (2.8.2)\n",
            "Requirement already satisfied: six>=1.5 in /usr/local/lib/python3.10/dist-packages (from python-dateutil>=2.7->matplotlib) (1.16.0)\n",
            "Looking in indexes: https://pypi.org/simple, https://us-python.pkg.dev/colab-wheels/public/simple/\n",
            "Requirement already satisfied: matplotlib-inline in /usr/local/lib/python3.10/dist-packages (0.1.6)\n",
            "Requirement already satisfied: traitlets in /usr/local/lib/python3.10/dist-packages (from matplotlib-inline) (5.7.1)\n"
          ]
        }
      ]
    },
    {
      "cell_type": "code",
      "source": [
        "import matplotlib.pyplot as plt\n",
        "image, label = next(iter(train_loader))\n",
        "print(image[0].shape)\n",
        "print(label[0])\n",
        "sample = image[0].squeeze()\n",
        "sample = sample.permute((1, 2, 0))\n",
        "plt.imshow(sample)\n",
        "plt.show()\n",
        "print('Label is: {}'.format(label[0].numpy()))"
      ],
      "metadata": {
        "colab": {
          "base_uri": "https://localhost:8080/",
          "height": 503
        },
        "id": "O0ItDhZQJ1Lz",
        "outputId": "4f150287-2d42-44d9-d71a-eb84592706fb"
      },
      "execution_count": 15,
      "outputs": [
        {
          "output_type": "stream",
          "name": "stderr",
          "text": [
            "WARNING:matplotlib.image:Clipping input data to the valid range for imshow with RGB data ([0..1] for floats or [0..255] for integers).\n"
          ]
        },
        {
          "output_type": "stream",
          "name": "stdout",
          "text": [
            "torch.Size([3, 28, 28])\n",
            "tensor(3)\n"
          ]
        },
        {
          "output_type": "display_data",
          "data": {
            "text/plain": [
              "<Figure size 640x480 with 1 Axes>"
            ],
            "image/png": "[encoded data removed]"
          },
          "metadata": {}
        },
        {
          "output_type": "stream",
          "name": "stdout",
          "text": [
            "Label is: 3\n"
          ]
        }
      ]
    },
    {
      "cell_type": "markdown",
      "source": [
        "## 把整理好的传入模型"
      ],
      "metadata": {
        "id": "IclM21QeKhQy"
      }
    },
    {
      "cell_type": "code",
      "source": [
        "import os\n",
        "import matplotlib.pyplot as plt\n",
        "%matplotlib inline\n",
        "import numpy as np\n",
        "import torch\n",
        "from torch import nn\n",
        "import torch.optim as optim\n",
        "import torchvision\n",
        "\n",
        "from torchvision import transforms, models, datasets\n",
        "\n",
        "import imageio\n",
        "import time\n",
        "import warnings\n",
        "import random\n",
        "import sys\n",
        "import copy\n",
        "import json\n",
        "from PIL import Image"
      ],
      "metadata": {
        "id": "rk1D1kYoLePL"
      },
      "execution_count": 17,
      "outputs": []
    },
    {
      "cell_type": "code",
      "source": [
        "dataloaders = {'train': train_loader, 'valid': val_loader}"
      ],
      "metadata": {
        "id": "OoEpNAN-KYUw"
      },
      "execution_count": 18,
      "outputs": []
    },
    {
      "cell_type": "code",
      "source": [
        "model_name = 'resnet'\n",
        "feature_extract = True"
      ],
      "metadata": {
        "id": "p6kNPjdEK20c"
      },
      "execution_count": 19,
      "outputs": []
    },
    {
      "cell_type": "code",
      "source": [
        "# 是否用GPU训练\n",
        "train_on_gpu = torch.cuda.is_available()\n",
        "\n",
        "if not train_on_gpu:\n",
        "  print('CUDA is not available. Training on CPU ...')\n",
        "else:\n",
        "  print('CUDA is available! Training on GPU ...')\n",
        "\n",
        "device = torch.device(\"cuda:0\" if torch.cuda.is_available() else \"cpu\")"
      ],
      "metadata": {
        "colab": {
          "base_uri": "https://localhost:8080/",
          "height": 0
        },
        "id": "yuAJQAKHK7En",
        "outputId": "ff48fbeb-ae14-4785-a9fd-ad72c3c8da49"
      },
      "execution_count": 20,
      "outputs": [
        {
          "output_type": "stream",
          "name": "stdout",
          "text": [
            "CUDA is available! Training on GPU ...\n"
          ]
        }
      ]
    },
    {
      "cell_type": "code",
      "source": [
        "model_ft = models.resnet18()\n",
        "num_ftrs = model_ft.fc.in_features\n",
        "model_ft.fc = nn.Sequential(nn.Linear(num_ftrs, 5))\n",
        "input_size = 28\n",
        "model_ft"
      ],
      "metadata": {
        "colab": {
          "base_uri": "https://localhost:8080/",
          "height": 0
        },
        "id": "VnhsPvhSLU7o",
        "outputId": "cc815ffa-81ed-4d42-fd40-77340e098545"
      },
      "execution_count": 21,
      "outputs": [
        {
          "output_type": "execute_result",
          "data": {
            "text/plain": [
              "ResNet(\n",
              "  (conv1): Conv2d(3, 64, kernel_size=(7, 7), stride=(2, 2), padding=(3, 3), bias=False)\n",
              "  (bn1): BatchNorm2d(64, eps=1e-05, momentum=0.1, affine=True, track_running_stats=True)\n",
              "  (relu): ReLU(inplace=True)\n",
              "  (maxpool): MaxPool2d(kernel_size=3, stride=2, padding=1, dilation=1, ceil_mode=False)\n",
              "  (layer1): Sequential(\n",
              "    (0): BasicBlock(\n",
              "      (conv1): Conv2d(64, 64, kernel_size=(3, 3), stride=(1, 1), padding=(1, 1), bias=False)\n",
              "      (bn1): BatchNorm2d(64, eps=1e-05, momentum=0.1, affine=True, track_running_stats=True)\n",
              "      (relu): ReLU(inplace=True)\n",
              "      (conv2): Conv2d(64, 64, kernel_size=(3, 3), stride=(1, 1), padding=(1, 1), bias=False)\n",
              "      (bn2): BatchNorm2d(64, eps=1e-05, momentum=0.1, affine=True, track_running_stats=True)\n",
              "    )\n",
              "    (1): BasicBlock(\n",
              "      (conv1): Conv2d(64, 64, kernel_size=(3, 3), stride=(1, 1), padding=(1, 1), bias=False)\n",
              "      (bn1): BatchNorm2d(64, eps=1e-05, momentum=0.1, affine=True, track_running_stats=True)\n",
              "      (relu): ReLU(inplace=True)\n",
              "      (conv2): Conv2d(64, 64, kernel_size=(3, 3), stride=(1, 1), padding=(1, 1), bias=False)\n",
              "      (bn2): BatchNorm2d(64, eps=1e-05, momentum=0.1, affine=True, track_running_stats=True)\n",
              "    )\n",
              "  )\n",
              "  (layer2): Sequential(\n",
              "    (0): BasicBlock(\n",
              "      (conv1): Conv2d(64, 128, kernel_size=(3, 3), stride=(2, 2), padding=(1, 1), bias=False)\n",
              "      (bn1): BatchNorm2d(128, eps=1e-05, momentum=0.1, affine=True, track_running_stats=True)\n",
              "      (relu): ReLU(inplace=True)\n",
              "      (conv2): Conv2d(128, 128, kernel_size=(3, 3), stride=(1, 1), padding=(1, 1), bias=False)\n",
              "      (bn2): BatchNorm2d(128, eps=1e-05, momentum=0.1, affine=True, track_running_stats=True)\n",
              "      (downsample): Sequential(\n",
              "        (0): Conv2d(64, 128, kernel_size=(1, 1), stride=(2, 2), bias=False)\n",
              "        (1): BatchNorm2d(128, eps=1e-05, momentum=0.1, affine=True, track_running_stats=True)\n",
              "      )\n",
              "    )\n",
              "    (1): BasicBlock(\n",
              "      (conv1): Conv2d(128, 128, kernel_size=(3, 3), stride=(1, 1), padding=(1, 1), bias=False)\n",
              "      (bn1): BatchNorm2d(128, eps=1e-05, momentum=0.1, affine=True, track_running_stats=True)\n",
              "      (relu): ReLU(inplace=True)\n",
              "      (conv2): Conv2d(128, 128, kernel_size=(3, 3), stride=(1, 1), padding=(1, 1), bias=False)\n",
              "      (bn2): BatchNorm2d(128, eps=1e-05, momentum=0.1, affine=True, track_running_stats=True)\n",
              "    )\n",
              "  )\n",
              "  (layer3): Sequential(\n",
              "    (0): BasicBlock(\n",
              "      (conv1): Conv2d(128, 256, kernel_size=(3, 3), stride=(2, 2), padding=(1, 1), bias=False)\n",
              "      (bn1): BatchNorm2d(256, eps=1e-05, momentum=0.1, affine=True, track_running_stats=True)\n",
              "      (relu): ReLU(inplace=True)\n",
              "      (conv2): Conv2d(256, 256, kernel_size=(3, 3), stride=(1, 1), padding=(1, 1), bias=False)\n",
              "      (bn2): BatchNorm2d(256, eps=1e-05, momentum=0.1, affine=True, track_running_stats=True)\n",
              "      (downsample): Sequential(\n",
              "        (0): Conv2d(128, 256, kernel_size=(1, 1), stride=(2, 2), bias=False)\n",
              "        (1): BatchNorm2d(256, eps=1e-05, momentum=0.1, affine=True, track_running_stats=True)\n",
              "      )\n",
              "    )\n",
              "    (1): BasicBlock(\n",
              "      (conv1): Conv2d(256, 256, kernel_size=(3, 3), stride=(1, 1), padding=(1, 1), bias=False)\n",
              "      (bn1): BatchNorm2d(256, eps=1e-05, momentum=0.1, affine=True, track_running_stats=True)\n",
              "      (relu): ReLU(inplace=True)\n",
              "      (conv2): Conv2d(256, 256, kernel_size=(3, 3), stride=(1, 1), padding=(1, 1), bias=False)\n",
              "      (bn2): BatchNorm2d(256, eps=1e-05, momentum=0.1, affine=True, track_running_stats=True)\n",
              "    )\n",
              "  )\n",
              "  (layer4): Sequential(\n",
              "    (0): BasicBlock(\n",
              "      (conv1): Conv2d(256, 512, kernel_size=(3, 3), stride=(2, 2), padding=(1, 1), bias=False)\n",
              "      (bn1): BatchNorm2d(512, eps=1e-05, momentum=0.1, affine=True, track_running_stats=True)\n",
              "      (relu): ReLU(inplace=True)\n",
              "      (conv2): Conv2d(512, 512, kernel_size=(3, 3), stride=(1, 1), padding=(1, 1), bias=False)\n",
              "      (bn2): BatchNorm2d(512, eps=1e-05, momentum=0.1, affine=True, track_running_stats=True)\n",
              "      (downsample): Sequential(\n",
              "        (0): Conv2d(256, 512, kernel_size=(1, 1), stride=(2, 2), bias=False)\n",
              "        (1): BatchNorm2d(512, eps=1e-05, momentum=0.1, affine=True, track_running_stats=True)\n",
              "      )\n",
              "    )\n",
              "    (1): BasicBlock(\n",
              "      (conv1): Conv2d(512, 512, kernel_size=(3, 3), stride=(1, 1), padding=(1, 1), bias=False)\n",
              "      (bn1): BatchNorm2d(512, eps=1e-05, momentum=0.1, affine=True, track_running_stats=True)\n",
              "      (relu): ReLU(inplace=True)\n",
              "      (conv2): Conv2d(512, 512, kernel_size=(3, 3), stride=(1, 1), padding=(1, 1), bias=False)\n",
              "      (bn2): BatchNorm2d(512, eps=1e-05, momentum=0.1, affine=True, track_running_stats=True)\n",
              "    )\n",
              "  )\n",
              "  (avgpool): AdaptiveAvgPool2d(output_size=(1, 1))\n",
              "  (fc): Sequential(\n",
              "    (0): Linear(in_features=512, out_features=5, bias=True)\n",
              "  )\n",
              ")"
            ]
          },
          "metadata": {},
          "execution_count": 21
        }
      ]
    },
    {
      "cell_type": "code",
      "source": [
        "optimizer_ft = torch.optim.Adam(model_ft.parameters(), lr=1e-3)\n",
        "scheduler = optim.lr_scheduler.StepLR(optimizer_ft, step_size=7, gamma=0.1)\n",
        "criterion = nn.CrossEntropyLoss()\n"
      ],
      "metadata": {
        "id": "aYpeQJZOMTZQ"
      },
      "execution_count": 22,
      "outputs": []
    },
    {
      "cell_type": "markdown",
      "source": [
        "# 训练模型\n"
      ],
      "metadata": {
        "id": "u1XodjXBNlru"
      }
    },
    {
      "cell_type": "code",
      "source": [
        "def train(model, dataloaders, criterion, optimizer, num_epochs=25, is_inception=False, filename='best.pth'):\n",
        "  since = time.time()\n",
        "  best_acc = 0\n",
        "  model.to(device)\n",
        "\n",
        "  val_acc_history = []\n",
        "  train_acc_history = []\n",
        "  train_losses = []\n",
        "  valid_losses = []\n",
        "  LRs = [optimizer.param_groups[0]['lr']]\n",
        "\n",
        "  best_model_wts = copy.deepcopy(model.state_dict())\n",
        "\n",
        "  for epoch in range(num_epochs):\n",
        "    print('Epoch {}/{}'.format(epoch, num_epochs - 1))\n",
        "    print('-' * 10)\n",
        "\n",
        "    # training and validation\n",
        "    for phase in ['train', 'valid']:\n",
        "      if phase == 'train':\n",
        "        model.train()\n",
        "      else:\n",
        "        model.eval()\n",
        "      \n",
        "      running_loss = 0.0\n",
        "      running_corrects = 0\n",
        "\n",
        "      for inputs, labels in dataloaders[phase]:\n",
        "        inputs = inputs.to(device)\n",
        "        labels = labels.to(device)\n",
        "\n",
        "        optimizer.zero_grad()\n",
        "\n",
        "        with torch.set_grad_enabled(phase == 'train'):\n",
        "          outputs = model(inputs)\n",
        "          loss = criterion(outputs, labels)\n",
        "          _, preds = torch.max(outputs, 1)\n",
        "          #print('loss: ', loss)\n",
        "\n",
        "          if phase == 'train':\n",
        "            loss.backward()\n",
        "            optimizer.step()\n",
        "        \n",
        "        running_loss += loss.item() * inputs.size(0)\n",
        "        running_corrects += torch.sum(preds == labels.data)\n",
        "\n",
        "      epoch_loss = running_loss / len(dataloaders[phase].dataset)\n",
        "      epoch_acc = running_corrects.double() / len(dataloaders[phase].dataset)\n",
        "\n",
        "      time_elapsed = time.time() - since\n",
        "      print('Time elapsed {:.0f}m {:.0f}s'.format(time_elapsed // 60, time_elapsed % 60))\n",
        "      print('{} Loss: {:.4f} Acc: {:.4f}'.format(phase, epoch_loss, epoch_acc))\n",
        "\n",
        "      if phase == 'valid' and epoch_acc > best_acc:\n",
        "        best_acc = epoch_acc\n",
        "        best_model_wts = copy.deepcopy(model.state_dict())\n",
        "        state = {\n",
        "          'state_dict': model.state_dict(),#字典里key就是各层的名字，值就是训练好的权重\n",
        "          'best_acc': best_acc,\n",
        "          'optimizer' : optimizer.state_dict(),#优化器的状态信息\n",
        "        }\n",
        "        torch.save(state, filename)\n",
        "      if phase == 'valid':\n",
        "          val_acc_history.append(epoch_acc)\n",
        "          valid_losses.append(epoch_loss)\n",
        "          scheduler.step(epoch_loss)#学习率衰减\n",
        "      if phase == 'train':\n",
        "          train_acc_history.append(epoch_acc)\n",
        "          train_losses.append(epoch_loss)\n",
        "\n",
        "    print('Optimizer learning rate : {:.7f}'.format(optimizer.param_groups[0]['lr']))\n",
        "    LRs.append(optimizer.param_groups[0]['lr'])\n",
        "    print()\n",
        "\n",
        "  time_elapsed = time.time() - since\n",
        "  print('Training complete in {:.0f}m {:.0f}s'.format(time_elapsed // 60, time_elapsed % 60))\n",
        "  print('Best val Acc: {:4f}'.format(best_acc))\n",
        "\n",
        "  # 训练完后用最好的一次当做模型最终的结果,等着一会测试\n",
        "  model.load_state_dict(best_model_wts)\n",
        "  return model, val_acc_history, train_acc_history, valid_losses, train_losses, LRs"
      ],
      "metadata": {
        "id": "YwELBfzQM6it"
      },
      "execution_count": 23,
      "outputs": []
    },
    {
      "cell_type": "code",
      "source": [
        "model_ft, val_acc_history, train_acc_history, valid_losses, train_losses, LRs  = train(model_ft, dataloaders, criterion, optimizer_ft, num_epochs=17, filename='best.pth')"
      ],
      "metadata": {
        "colab": {
          "base_uri": "https://localhost:8080/",
          "height": 0
        },
        "id": "iKNjJd_hQRhK",
        "outputId": "f60b787f-225b-43c1-ca5e-8bc6349c223e"
      },
      "execution_count": 24,
      "outputs": [
        {
          "output_type": "stream",
          "name": "stdout",
          "text": [
            "Epoch 0/16\n",
            "----------\n",
            "Time elapsed 0m 12s\n",
            "train Loss: 1.5047 Acc: 0.4315\n",
            "Time elapsed 0m 12s\n",
            "valid Loss: 8.4310 Acc: 0.4500\n"
          ]
        },
        {
          "output_type": "stream",
          "name": "stderr",
          "text": [
            "/usr/local/lib/python3.10/dist-packages/torch/optim/lr_scheduler.py:152: UserWarning: The epoch parameter in `scheduler.step()` was not necessary and is being deprecated where possible. Please use `scheduler.step()` to step the scheduler. During the deprecation, if epoch is different from None, the closed form is used instead of the new chainable form, where available. Please open an issue if you are unable to replicate your use case: https://github.com/pytorch/pytorch/issues/new/choose.\n",
            "  warnings.warn(EPOCH_DEPRECATION_WARNING, UserWarning)\n"
          ]
        },
        {
          "output_type": "stream",
          "name": "stdout",
          "text": [
            "Optimizer learning rate : 0.0001000\n",
            "\n",
            "Epoch 1/16\n",
            "----------\n",
            "Time elapsed 0m 13s\n",
            "train Loss: 1.1871 Acc: 0.5269\n",
            "Time elapsed 0m 13s\n",
            "valid Loss: 1.1327 Acc: 0.5333\n",
            "Optimizer learning rate : 0.0010000\n",
            "\n",
            "Epoch 2/16\n",
            "----------\n",
            "Time elapsed 0m 18s\n",
            "train Loss: 1.1554 Acc: 0.5157\n",
            "Time elapsed 0m 18s\n",
            "valid Loss: 1.0789 Acc: 0.5583\n",
            "Optimizer learning rate : 0.0010000\n",
            "\n",
            "Epoch 3/16\n",
            "----------\n",
            "Time elapsed 0m 19s\n",
            "train Loss: 1.0897 Acc: 0.5528\n",
            "Time elapsed 0m 19s\n",
            "valid Loss: 1.1810 Acc: 0.4583\n",
            "Optimizer learning rate : 0.0010000\n",
            "\n",
            "Epoch 4/16\n",
            "----------\n",
            "Time elapsed 0m 19s\n",
            "train Loss: 1.0905 Acc: 0.5315\n",
            "Time elapsed 0m 19s\n",
            "valid Loss: 1.0817 Acc: 0.5500\n",
            "Optimizer learning rate : 0.0010000\n",
            "\n",
            "Epoch 5/16\n",
            "----------\n",
            "Time elapsed 0m 19s\n",
            "train Loss: 1.0331 Acc: 0.5676\n",
            "Time elapsed 0m 19s\n",
            "valid Loss: 1.1355 Acc: 0.4583\n",
            "Optimizer learning rate : 0.0010000\n",
            "\n",
            "Epoch 6/16\n",
            "----------\n",
            "Time elapsed 0m 20s\n",
            "train Loss: 0.9973 Acc: 0.6019\n",
            "Time elapsed 0m 20s\n",
            "valid Loss: 1.2396 Acc: 0.4750\n",
            "Optimizer learning rate : 0.0010000\n",
            "\n",
            "Epoch 7/16\n",
            "----------\n",
            "Time elapsed 0m 20s\n",
            "train Loss: 0.9501 Acc: 0.6000\n",
            "Time elapsed 0m 20s\n",
            "valid Loss: 1.2099 Acc: 0.5333\n",
            "Optimizer learning rate : 0.0010000\n",
            "\n",
            "Epoch 8/16\n",
            "----------\n",
            "Time elapsed 0m 20s\n",
            "train Loss: 0.9918 Acc: 0.6037\n",
            "Time elapsed 0m 20s\n",
            "valid Loss: 1.3914 Acc: 0.4917\n",
            "Optimizer learning rate : 0.0010000\n",
            "\n",
            "Epoch 9/16\n",
            "----------\n",
            "Time elapsed 0m 21s\n",
            "train Loss: 0.9497 Acc: 0.6204\n",
            "Time elapsed 0m 21s\n",
            "valid Loss: 1.4140 Acc: 0.4250\n",
            "Optimizer learning rate : 0.0010000\n",
            "\n",
            "Epoch 10/16\n",
            "----------\n",
            "Time elapsed 0m 21s\n",
            "train Loss: 0.9003 Acc: 0.6454\n",
            "Time elapsed 0m 21s\n",
            "valid Loss: 1.6779 Acc: 0.3833\n",
            "Optimizer learning rate : 0.0010000\n",
            "\n",
            "Epoch 11/16\n",
            "----------\n",
            "Time elapsed 0m 21s\n",
            "train Loss: 0.8523 Acc: 0.6602\n",
            "Time elapsed 0m 21s\n",
            "valid Loss: 1.3285 Acc: 0.5250\n",
            "Optimizer learning rate : 0.0010000\n",
            "\n",
            "Epoch 12/16\n",
            "----------\n",
            "Time elapsed 0m 22s\n",
            "train Loss: 0.8322 Acc: 0.6741\n",
            "Time elapsed 0m 22s\n",
            "valid Loss: 1.7358 Acc: 0.4667\n",
            "Optimizer learning rate : 0.0010000\n",
            "\n",
            "Epoch 13/16\n",
            "----------\n",
            "Time elapsed 0m 22s\n",
            "train Loss: 0.7843 Acc: 0.7065\n",
            "Time elapsed 0m 22s\n",
            "valid Loss: 1.6111 Acc: 0.4583\n",
            "Optimizer learning rate : 0.0010000\n",
            "\n",
            "Epoch 14/16\n",
            "----------\n",
            "Time elapsed 0m 22s\n",
            "train Loss: 0.7839 Acc: 0.6944\n",
            "Time elapsed 0m 22s\n",
            "valid Loss: 1.4415 Acc: 0.4583\n",
            "Optimizer learning rate : 0.0010000\n",
            "\n",
            "Epoch 15/16\n",
            "----------\n",
            "Time elapsed 0m 23s\n",
            "train Loss: 0.7713 Acc: 0.6981\n",
            "Time elapsed 0m 23s\n",
            "valid Loss: 1.5210 Acc: 0.5083\n",
            "Optimizer learning rate : 0.0010000\n",
            "\n",
            "Epoch 16/16\n",
            "----------\n",
            "Time elapsed 0m 23s\n",
            "train Loss: 0.7111 Acc: 0.7324\n",
            "Time elapsed 0m 23s\n",
            "valid Loss: 1.6222 Acc: 0.5250\n",
            "Optimizer learning rate : 0.0010000\n",
            "\n",
            "Training complete in 0m 23s\n",
            "Best val Acc: 0.558333\n"
          ]
        }
      ]
    },
    {
      "cell_type": "code",
      "source": [],
      "metadata": {
        "id": "quBouM3iQYgB"
      },
      "execution_count": 24,
      "outputs": []
    }
  ],
  "metadata": {
    "colab": {
      "provenance": [],
      "gpuType": "T4"
    },
    "kernelspec": {
      "display_name": "Python 3",
      "name": "python3"
    },
    "language_info": {
      "name": "python"
    },
    "accelerator": "GPU",
    "gpuClass": "standard"
  },
  "nbformat": 4,
  "nbformat_minor": 0
}